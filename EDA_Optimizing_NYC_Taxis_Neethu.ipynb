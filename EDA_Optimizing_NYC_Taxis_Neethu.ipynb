{
  "nbformat": 4,
  "nbformat_minor": 0,
  "metadata": {
    "colab": {
      "provenance": []
    },
    "kernelspec": {
      "name": "python3",
      "display_name": "Python 3"
    },
    "language_info": {
      "name": "python"
    }
  },
  "cells": [
    {
      "cell_type": "markdown",
      "metadata": {
        "id": "ZQl5n2IOuafL"
      },
      "source": [
        "# **New York City Yellow Taxi Data**"
      ]
    },
    {
      "cell_type": "markdown",
      "metadata": {
        "id": "DGQVIB4mEFrZ"
      },
      "source": [
        "## Objective\n",
        "In this case study you will be learning exploratory data analysis (EDA) with the help of a dataset on yellow taxi rides in New York City. This will enable you to understand why EDA is an important step in the process of data science and machine learning."
      ]
    },
    {
      "cell_type": "markdown",
      "metadata": {
        "id": "YJVMenVllLUL"
      },
      "source": [
        "## **Problem Statement**\n",
        "As an analyst at an upcoming taxi operation in NYC, you are tasked to use the 2023 taxi trip data to uncover insights that could help optimise taxi operations. The goal is to analyse patterns in the data that can inform strategic decisions to improve service efficiency, maximise revenue, and enhance passenger experience."
      ]
    },
    {
      "cell_type": "markdown",
      "metadata": {
        "id": "-OVfUMlHFkZD"
      },
      "source": [
        "## Tasks\n",
        "You need to perform the following steps for successfully completing this assignment:\n",
        "1. Data Loading\n",
        "2. Data Cleaning\n",
        "3. Exploratory Analysis: Bivariate and Multivariate\n",
        "4. Creating Visualisations to Support the Analysis\n",
        "5. Deriving Insights and Stating Conclusions"
      ]
    },
    {
      "cell_type": "markdown",
      "metadata": {
        "id": "gTxV-3GJUhWm"
      },
      "source": [
        "---"
      ]
    },
    {
      "cell_type": "markdown",
      "metadata": {
        "id": "ofebI8ITG-Li"
      },
      "source": [
        "**NOTE:** The marks given along with headings and sub-headings are cumulative marks for those particular headings/sub-headings.<br>\n",
        "\n",
        "The actual marks for each task are specified within the tasks themselves.\n",
        "\n",
        "For example, marks given with heading *2* or sub-heading *2.1* are the cumulative marks, for your reference only. <br>\n",
        "\n",
        "The marks you will receive for completing tasks are given with the tasks.\n",
        "\n",
        "Suppose the marks for two tasks are: 3 marks for 2.1.1 and 2 marks for 3.2.2, or\n",
        "* 2.1.1 [3 marks]\n",
        "* 3.2.2 [2 marks]\n",
        "\n",
        "then, you will earn 3 marks for completing task 2.1.1 and 2 marks for completing task 3.2.2.\n"
      ]
    },
    {
      "cell_type": "markdown",
      "metadata": {
        "id": "YdQjht7dUiHt"
      },
      "source": [
        "---"
      ]
    },
    {
      "cell_type": "markdown",
      "metadata": {
        "id": "0eaCZjHIvfuI"
      },
      "source": [
        "## Data Understanding\n",
        "The yellow taxi trip records include fields capturing pick-up and drop-off dates/times, pick-up and drop-off locations, trip distances, itemized fares, rate types, payment types, and driver-reported passenger counts.\n",
        "\n",
        "The data is stored in Parquet format (*.parquet*). The dataset is from 2009 to 2024. However, for this assignment, we will only be using the data from 2023.\n",
        "\n",
        "The data for each month is present in a different parquet file. You will get twelve files for each of the months in 2023.\n",
        "\n",
        "The data was collected and provided to the NYC Taxi and Limousine Commission (TLC) by technology providers like vendors and taxi hailing apps. <br>\n",
        "\n",
        "You can find the link to the TLC trip records page here: https://www.nyc.gov/site/tlc/about/tlc-trip-record-data.page"
      ]
    },
    {
      "cell_type": "markdown",
      "metadata": {
        "id": "LI6qC5IDxZU1"
      },
      "source": [
        "###  Data Description\n",
        "You can find the data description here: [Data Dictionary](https://www.nyc.gov/assets/tlc/downloads/pdf/data_dictionary_trip_records_yellow.pdf)"
      ]
    },
    {
      "cell_type": "markdown",
      "metadata": {
        "id": "FafCzrDuxHg2"
      },
      "source": [
        "**Trip Records**\n",
        "\n",
        "\n",
        "\n",
        "|Field Name       |description |\n",
        "|:----------------|:-----------|\n",
        "| VendorID | A code indicating the TPEP provider that provided the record. <br> 1= Creative Mobile Technologies, LLC; <br> 2= VeriFone Inc. |\n",
        "| tpep_pickup_datetime | The date and time when the meter was engaged.  |\n",
        "| tpep_dropoff_datetime | The date and time when the meter was disengaged.   |\n",
        "| Passenger_count | The number of passengers in the vehicle. <br> This is a driver-entered value. |\n",
        "| Trip_distance | The elapsed trip distance in miles reported by the taximeter. |\n",
        "| PULocationID | TLC Taxi Zone in which the taximeter was engaged |\n",
        "| DOLocationID | TLC Taxi Zone in which the taximeter was disengaged |\n",
        "|RateCodeID |The final rate code in effect at the end of the trip.<br> 1 = Standard rate <br> 2 = JFK <br> 3 = Newark <br>4 = Nassau or Westchester <br>5 = Negotiated fare <br>6 = Group ride |\n",
        "|Store_and_fwd_flag |This flag indicates whether the trip record was held in vehicle memory before sending to the vendor, aka “store and forward,” because the vehicle did not have a connection to the server.  <br>Y= store and forward trip <br>N= not a store and forward trip |\n",
        "|Payment_type| A numeric code signifying how the passenger paid for the trip. <br> 1 = Credit card <br>2 = Cash <br>3 = No charge <br>4 = Dispute <br>5 = Unknown <br>6 = Voided trip |\n",
        "|Fare_amount| The time-and-distance fare calculated by the meter. <br>Extra Miscellaneous extras and surcharges.  Currently, this only includes the 0.50 and 1 USD rush hour and overnight charges. |\n",
        "|MTA_tax |0.50 USD MTA tax that is automatically triggered based on the metered rate in use. |\n",
        "|Improvement_surcharge | 0.30 USD improvement surcharge assessed trips at the flag drop. The improvement surcharge began being levied in 2015. |\n",
        "|Tip_amount |Tip amount – This field is automatically populated for credit card tips. Cash tips are not included. |\n",
        "| Tolls_amount | Total amount of all tolls paid in trip.  |\n",
        "| total_amount | The total amount charged to passengers. Does not include cash tips. |\n",
        "|Congestion_Surcharge |Total amount collected in trip for NYS congestion surcharge. |\n",
        "| Airport_fee | 1.25 USD for pick up only at LaGuardia and John F. Kennedy Airports|\n",
        "\n",
        "Although the amounts of extra charges and taxes applied are specified in the data dictionary, you will see that some cases have different values of these charges in the actual data."
      ]
    },
    {
      "cell_type": "markdown",
      "metadata": {
        "id": "mL-FWYFnVEdE"
      },
      "source": [
        "**Taxi Zones**\n",
        "\n",
        "Each of the trip records contains a field corresponding to the location of the pickup or drop-off of the trip, populated by numbers ranging from 1-263.\n",
        "\n",
        "These numbers correspond to taxi zones, which may be downloaded as a table or map/shapefile and matched to the trip records using a join.\n",
        "\n",
        "This is covered in more detail in later sections."
      ]
    },
    {
      "cell_type": "markdown",
      "metadata": {
        "id": "z66W3s51U0gF"
      },
      "source": [
        "---"
      ]
    },
    {
      "cell_type": "markdown",
      "source": [],
      "metadata": {
        "id": "uAl_pozkeDsJ"
      }
    },
    {
      "cell_type": "markdown",
      "source": [
        "# **1 Data Preperation**"
      ],
      "metadata": {
        "id": "qatGH1vBXwgH"
      }
    },
    {
      "cell_type": "markdown",
      "source": [
        "## **Import Libraries**"
      ],
      "metadata": {
        "id": "SCHdRc_gXwiV"
      }
    },
    {
      "cell_type": "code",
      "source": [
        "import pandas as pd\n",
        "import numpy as np\n",
        "import matplotlib.pyplot as plt\n",
        "import seaborn as sns\n",
        "\n",
        "\n",
        "from google.colab import files\n",
        "files.upload()"
      ],
      "metadata": {
        "id": "fk-9dqEuUK1o"
      },
      "execution_count": null,
      "outputs": []
    },
    {
      "cell_type": "markdown",
      "source": [
        "## **1.1 Load the Dataset**"
      ],
      "metadata": {
        "id": "6MHMXLYE1iFR"
      }
    },
    {
      "cell_type": "code",
      "source": [
        "import pandas as pd\n",
        "df = pd.read_parquet(\"2023-1.parquet\")\n",
        "df.info()"
      ],
      "metadata": {
        "id": "RmiMnOJMfs9w"
      },
      "execution_count": null,
      "outputs": []
    },
    {
      "cell_type": "code",
      "source": [
        "# Sample 5% of the DataFrame\n",
        "sampled_df = df.sample(frac=0.05, random_state=42) # Using a random_state for reproducibility\n",
        "\n",
        "# Display information about the sampled DataFrame\n",
        "display(sampled_df.info())"
      ],
      "metadata": {
        "id": "Fye8mOppJsbB"
      },
      "execution_count": null,
      "outputs": []
    },
    {
      "cell_type": "markdown",
      "metadata": {
        "id": "95663667"
      },
      "source": [
        "**1. Upload more files**"
      ]
    },
    {
      "cell_type": "code",
      "source": [],
      "metadata": {
        "id": "anlVco3qKCBU"
      },
      "execution_count": null,
      "outputs": []
    },
    {
      "cell_type": "code",
      "metadata": {
        "id": "575192e3"
      },
      "source": [
        "from google.colab import files\n",
        "uploaded = files.upload()"
      ],
      "execution_count": null,
      "outputs": []
    },
    {
      "cell_type": "code",
      "source": [],
      "metadata": {
        "id": "IIjiRHHmJqxG"
      },
      "execution_count": null,
      "outputs": []
    },
    {
      "cell_type": "code",
      "source": [
        "import pandas as pd\n",
        "\n",
        "for filename in uploaded.keys():\n",
        "  print(f\"\\n Reading file: {filename}\")\n",
        "  try:\n",
        "    df = pd.read_parquet(filename)\n",
        "    sample_df = df.sample(frac=0.05, random_state=42)\n",
        "    sampled_filename = f\"sampled_{filename.replace('.parquet', '.csv')}\"\n",
        "    sample_df.to_csv(sampled_filename, index=False)\n",
        "    print(f\"saved 5% sample to: {sampled_filename}\")\n",
        "  except Exception as e:\n",
        "    print(f\"Error reading {filename}: {e}\")"
      ],
      "metadata": {
        "id": "Jgxxn2g-uXWJ"
      },
      "execution_count": null,
      "outputs": []
    },
    {
      "cell_type": "code",
      "source": [
        "from google.colab import files as Taxi_records_2\n",
        "\n",
        "for filename in uploaded.keys():\n",
        "    sampled_filename = f\"sampled_{filename.replace('.parquet', '.csv')}\"\n",
        "    Taxi_records_2.download(sampled_filename)\n",
        "\n"
      ],
      "metadata": {
        "id": "dp-HAArJoySQ"
      },
      "execution_count": null,
      "outputs": []
    },
    {
      "cell_type": "code",
      "source": [
        "from google.colab import files\n",
        "uploaded = files.upload()"
      ],
      "metadata": {
        "id": "t_W5WNFHw077"
      },
      "execution_count": null,
      "outputs": []
    },
    {
      "cell_type": "code",
      "source": [
        "import pandas as pd\n",
        "\n",
        "for filename in uploaded.keys():\n",
        "  print(f\"\\n Reading file: {filename}\")\n",
        "  try:\n",
        "    df = pd.read_parquet(filename)\n",
        "    sample_df = df.sample(frac=0.05, random_state=42)\n",
        "    sampled_filename = f\"sampled_{filename.replace('.parquet', '.csv')}\"\n",
        "    sample_df.to_csv(sampled_filename, index=False)\n",
        "    print(f\"saved 5% sample to: {sampled_filename}\")\n",
        "  except Exception as e:\n",
        "    print(f\"Error reading {filename}: {e}\")"
      ],
      "metadata": {
        "id": "1C0tHEeAxCqo"
      },
      "execution_count": null,
      "outputs": []
    },
    {
      "cell_type": "code",
      "source": [
        "from google.colab import files as Taxi_records_3\n",
        "\n",
        "for filename in uploaded.keys():\n",
        "    sampled_filename = f\"sampled_{filename.replace('.parquet', '.csv')}\"\n",
        "    Taxi_records_3.download(sampled_filename)"
      ],
      "metadata": {
        "id": "dbaZAshk2c-s"
      },
      "execution_count": null,
      "outputs": []
    },
    {
      "cell_type": "code",
      "source": [],
      "metadata": {
        "id": "VJA3XZRUEjbV"
      },
      "execution_count": null,
      "outputs": []
    },
    {
      "cell_type": "code",
      "source": [
        "from google.colab import files\n",
        "uploaded = files.upload()"
      ],
      "metadata": {
        "id": "W5ZdI00F2mYt"
      },
      "execution_count": null,
      "outputs": []
    },
    {
      "cell_type": "code",
      "source": [
        "import pandas as pd\n",
        "\n",
        "for filename in uploaded.keys():\n",
        "  print(f\"\\n Reading file: {filename}\")\n",
        "  try:\n",
        "    df = pd.read_parquet(filename)\n",
        "    sample_df = df.sample(frac=0.05, random_state=42)\n",
        "    sampled_filename = f\"sampled_{filename.replace('.parquet', '.csv')}\"\n",
        "    sample_df.to_csv(sampled_filename, index=False)\n",
        "    print(f\"saved 5% sample to: {sampled_filename}\")\n",
        "  except Exception as e:\n",
        "    print(f\"Error reading {filename}: {e}\")"
      ],
      "metadata": {
        "id": "soZB6X0u29Lb"
      },
      "execution_count": null,
      "outputs": []
    },
    {
      "cell_type": "code",
      "source": [
        "from google.colab import files as Taxi_records_4\n",
        "\n",
        "for filename in uploaded.keys():\n",
        "    sampled_filename = f\"sampled_{filename.replace('.parquet', '.csv')}\"\n",
        "    Taxi_records_4.download(sampled_filename)"
      ],
      "metadata": {
        "id": "Cmmk1_9OEkrx"
      },
      "execution_count": null,
      "outputs": []
    },
    {
      "cell_type": "code",
      "source": [
        "from google.colab import files\n",
        "uploaded = files.upload()"
      ],
      "metadata": {
        "id": "_GFCBjmPE2fG"
      },
      "execution_count": null,
      "outputs": []
    },
    {
      "cell_type": "code",
      "source": [
        "import pandas as pd\n",
        "\n",
        "for filename in uploaded.keys():\n",
        "  print(f\"\\n Reading file: {filename}\")\n",
        "  try:\n",
        "    df = pd.read_parquet(filename)\n",
        "    sample_df = df.sample(frac=0.05, random_state=42)\n",
        "    sampled_filename = f\"sampled_{filename.replace('.parquet', '.csv')}\"\n",
        "    sample_df.to_csv(sampled_filename, index=False)\n",
        "    print(f\"saved 5% sample to: {sampled_filename}\")\n",
        "  except Exception as e:\n",
        "    print(f\"Error reading {filename}: {e}\")"
      ],
      "metadata": {
        "id": "jThga-C4I2jN"
      },
      "execution_count": null,
      "outputs": []
    },
    {
      "cell_type": "code",
      "source": [
        "from google.colab import files as Taxi_records_4\n",
        "\n",
        "for filename in uploaded.keys():\n",
        "    sampled_filename = f\"sampled_{filename.replace('.parquet', '.csv')}\"\n",
        "    Taxi_records_4.download(sampled_filename)"
      ],
      "metadata": {
        "id": "OqLHTYkbI3Jn"
      },
      "execution_count": null,
      "outputs": []
    },
    {
      "cell_type": "code",
      "source": [
        "from google.colab import files\n",
        "uploaded = files.upload()\n"
      ],
      "metadata": {
        "id": "TTZT_ggnOYuM"
      },
      "execution_count": null,
      "outputs": []
    },
    {
      "cell_type": "code",
      "source": [
        "import pandas as pd\n",
        "\n",
        "for filename in uploaded.keys():\n",
        "  print(f\"\\n Reading file: {filename}\")\n",
        "  try:\n",
        "    df = pd.read_parquet(filename)\n",
        "    sample_df = df.sample(frac=0.05, random_state=42)\n",
        "    sampled_filename = f\"sampled_{filename.replace('.parquet', '.csv')}\"\n",
        "    sample_df.to_csv(sampled_filename, index=False)\n",
        "    print(f\"saved 5% sample to: {sampled_filename}\")\n",
        "  except Exception as e:\n",
        "    print(f\"Error reading {filename}: {e}\")"
      ],
      "metadata": {
        "id": "iqsX5-GoRwvi"
      },
      "execution_count": null,
      "outputs": []
    },
    {
      "cell_type": "code",
      "source": [
        "files.download(sampled_filename)"
      ],
      "metadata": {
        "id": "TTMPQfbKSJcg"
      },
      "execution_count": null,
      "outputs": []
    },
    {
      "cell_type": "markdown",
      "source": [
        "**Upload CSV files and Combine**"
      ],
      "metadata": {
        "id": "AXkpJY-tH8Gj"
      }
    },
    {
      "cell_type": "code",
      "source": [
        "from google.colab import files\n",
        "uploaded = files.upload()\n"
      ],
      "metadata": {
        "id": "MDrRBQQsIIbC"
      },
      "execution_count": null,
      "outputs": []
    },
    {
      "cell_type": "code",
      "source": [
        "import pandas as pd\n",
        "\n",
        "Combined_dataframe = []\n",
        "\n",
        "for filename in uploaded.keys():\n",
        "  print(f\"Reading file: {filename}\")\n",
        "\n",
        "  df = pd.read_csv(filename)\n",
        "\n",
        "  Combined_dataframe.append(df)\n",
        "\n",
        "Combined_dataframe = pd.concat(Combined_dataframe, ignore_index=True)\n",
        "print(\"Combined all sampled files succcessfully!\")\n",
        "print(f\"Combined Dataframe shape: {Combined_dataframe.shape}\")"
      ],
      "metadata": {
        "id": "bhx7h2P5SlSe"
      },
      "execution_count": null,
      "outputs": []
    },
    {
      "cell_type": "code",
      "source": [
        "Combined_dataframe.to_csv(\"Combined_dataframe.csv\", index=False)\n",
        "files.download(\"Combined_dataframe.csv\")"
      ],
      "metadata": {
        "id": "Xb9y50DOT8hC"
      },
      "execution_count": null,
      "outputs": []
    },
    {
      "cell_type": "markdown",
      "source": [
        "**Read both Taxi_Records Combined_CSV and Taxi_zone Shapefile**"
      ],
      "metadata": {
        "id": "q4qylM2pYQMw"
      }
    },
    {
      "cell_type": "code",
      "source": [
        "import pandas as pd\n",
        "import zipfile\n",
        "import os"
      ],
      "metadata": {
        "id": "dQqc0HfXYnra"
      },
      "execution_count": null,
      "outputs": []
    },
    {
      "cell_type": "code",
      "source": [
        "from google.colab import files\n",
        "uploaded = files.upload()"
      ],
      "metadata": {
        "id": "FVE9EBUOY6mG"
      },
      "execution_count": null,
      "outputs": []
    },
    {
      "cell_type": "code",
      "source": [
        "import pandas as pd\n",
        "df = pd.read_csv(\"Combined_dataframe.csv\")"
      ],
      "metadata": {
        "id": "SO-7srnYZVuO"
      },
      "execution_count": null,
      "outputs": []
    },
    {
      "cell_type": "code",
      "source": [
        "from google.colab import files\n",
        "uploaded = files.upload()"
      ],
      "metadata": {
        "id": "ooQGlkJ0lJks"
      },
      "execution_count": null,
      "outputs": []
    },
    {
      "cell_type": "code",
      "source": [
        "import geopandas as gpd\n",
        "import zipfile\n",
        "import os\n",
        "\n",
        "with zipfile.ZipFile(\"taxi_zones 2.zip\", \"r\") as zip_ref:\n",
        "  zip_ref.extractall(\"taxi_zones\")\n",
        "\n",
        "# List files in the nested directory\n",
        "print(os.listdir(\"taxi_zones/taxi_zones 2\"))\n",
        "\n",
        "shp_files = [f for f in os.listdir(\"taxi_zones/taxi_zones 2\") if f.endswith(\".shp\")]\n",
        "zones_gdf = gpd.read_file(\"taxi_zones/taxi_zones 2/\" + shp_files[0])"
      ],
      "metadata": {
        "id": "6ESWU0jYmIqE"
      },
      "execution_count": null,
      "outputs": []
    },
    {
      "cell_type": "code",
      "source": [],
      "metadata": {
        "id": "Yi3Devabn8kT"
      },
      "execution_count": null,
      "outputs": []
    },
    {
      "cell_type": "markdown",
      "source": [
        "# **2 Data Cleaning**"
      ],
      "metadata": {
        "id": "3MEY5_9eojaz"
      }
    },
    {
      "cell_type": "code",
      "source": [
        "df.head()"
      ],
      "metadata": {
        "id": "sDnVGegrpOYe"
      },
      "execution_count": null,
      "outputs": []
    },
    {
      "cell_type": "code",
      "source": [
        "df.describe()"
      ],
      "metadata": {
        "id": "UNeWPLWMpf1N"
      },
      "execution_count": null,
      "outputs": []
    },
    {
      "cell_type": "code",
      "source": [
        "df.columns = df.columns.str.strip().str.lower().str.replace(' ', '_')\n",
        "print(df.columns.tolist())"
      ],
      "metadata": {
        "id": "0gsCBgVLppJZ"
      },
      "execution_count": null,
      "outputs": []
    },
    {
      "cell_type": "code",
      "source": [
        "critical_cols = ['tpep_pickup_datetime', 'tpep_dropoff_datetime', 'pulocationid', 'dolocationid', 'store_and_fwd_flag', 'payment_type', 'fare_amount', 'total_amount' , 'passenger_count']\n",
        "df.dropna(subset=critical_cols, inplace = True)\n",
        "df.head()\n",
        "print(\"Updated DataFrame shape:\", df.shape)\n"
      ],
      "metadata": {
        "id": "u7m-WP0qvBU1"
      },
      "execution_count": null,
      "outputs": []
    },
    {
      "cell_type": "code",
      "source": [
        "print(df[critical_cols].isnull().sum())"
      ],
      "metadata": {
        "id": "YYZn8y2myo-4"
      },
      "execution_count": null,
      "outputs": []
    },
    {
      "cell_type": "code",
      "source": [
        "print(df.dtypes)"
      ],
      "metadata": {
        "id": "NaSiILD913kj"
      },
      "execution_count": null,
      "outputs": []
    },
    {
      "cell_type": "code",
      "source": [
        "print(df[critical_cols])\n",
        "display(df[critical_cols].head())"
      ],
      "metadata": {
        "id": "foX8Q7dK136F"
      },
      "execution_count": null,
      "outputs": []
    },
    {
      "cell_type": "code",
      "source": [
        "df['payment_type'].describe()"
      ],
      "metadata": {
        "id": "pKr5SKNB3YYu"
      },
      "execution_count": null,
      "outputs": []
    },
    {
      "cell_type": "markdown",
      "source": [
        "**Removing bad records**\n",
        "\n",
        "\n",
        "This avoids misleading insights about user experience, like ‘ghost’ trips or system bugs, and helps PMs spot genuine trends and issues."
      ],
      "metadata": {
        "id": "SkZq8aEFBnBq"
      }
    },
    {
      "cell_type": "code",
      "source": [
        "df['tpep_pickup_datetime'] = pd.to_datetime(df['tpep_pickup_datetime'])\n",
        "df['tpep_dropoff_datetime'] = pd.to_datetime(df['tpep_dropoff_datetime'])\n",
        "df = df[(df['fare_amount']>0) & (df['total_amount']>0) & (df['trip_distance'] > 0) & (df['passenger_count'] >0)]\n",
        "df = df.drop_duplicates()\n",
        "print(df.head())"
      ],
      "metadata": {
        "id": "3qZ67Xz85XN9"
      },
      "execution_count": null,
      "outputs": []
    },
    {
      "cell_type": "code",
      "source": [
        "print(\"Number of duplicates rows left:\", df.duplicated().sum())"
      ],
      "metadata": {
        "id": "pJQUOlEa_n-B"
      },
      "execution_count": null,
      "outputs": []
    },
    {
      "cell_type": "code",
      "source": [
        "df['trip_duration_min'] = (df['tpep_dropoff_datetime'] - df['tpep_pickup_datetime']).dt.total_seconds() / 60\n",
        "\n",
        "df = df[(df['trip_duration_min'] > 0) & (df['trip_duration_min'] < 180)]\n",
        "\n",
        "display(df[['tpep_pickup_datetime', 'tpep_dropoff_datetime', 'trip_duration_min']].head())"
      ],
      "metadata": {
        "id": "7xXdTVTCOSiR"
      },
      "execution_count": null,
      "outputs": []
    },
    {
      "cell_type": "code",
      "source": [
        "# For pickup datetime\n",
        "df['pickup_date'] = df['tpep_pickup_datetime'].dt.date         # Just the date (YYYY-MM-DD)\n",
        "df['pickup_time'] = df['tpep_pickup_datetime'].dt.time         # Just the time (HH:MM:SS)\n",
        "\n",
        "\n",
        "# For dropoff datetime\n",
        "df['dropoff_date'] = df['tpep_dropoff_datetime'].dt.date\n",
        "df['dropoff_time'] = df['tpep_dropoff_datetime'].dt.time\n",
        "print(df[['tpep_pickup_datetime', 'tpep_dropoff_datetime', 'pickup_date', 'pickup_time', 'dropoff_date', 'dropoff_time']].head())"
      ],
      "metadata": {
        "id": "gHUditLK_oAn"
      },
      "execution_count": null,
      "outputs": []
    },
    {
      "cell_type": "code",
      "metadata": {
        "id": "7304cd36"
      },
      "source": [
        "df = df.drop(['ratecodeid' , 'airport_fee'], axis=1)\n",
        "display(df.head())"
      ],
      "execution_count": null,
      "outputs": []
    },
    {
      "cell_type": "markdown",
      "source": [
        "**Outlier filtering for fare and distance**\n",
        "\n",
        "Removing outliers ensures product and business metrics (like ‘average trip time’ on the homepage or ‘surge pricing triggers’) reflect real customer journeys, not system glitches or edge cases."
      ],
      "metadata": {
        "id": "AKBjyeDar-XC"
      }
    },
    {
      "cell_type": "code",
      "source": [
        "# Calculate IQR for 'fare_amount' and 'trip_distance'\n",
        "Q1_fare = df['fare_amount'].quantile(0.25)\n",
        "Q3_fare = df['fare_amount'].quantile(0.75)\n",
        "IQR_fare = Q3_fare - Q1_fare\n",
        "\n",
        "Q1_distance = df['trip_distance'].quantile(0.25)\n",
        "Q3_distance = df['trip_distance'].quantile(0.75)\n",
        "IQR_distance = Q3_distance - Q1_distance\n",
        "\n",
        "# Define outlier bounds\n",
        "upper_bound_fare = Q3_fare + 1.5 * IQR_fare\n",
        "upper_bound_distance = Q3_distance + 1.5 * IQR_distance\n",
        "\n",
        "# Filter outliers\n",
        "df = df[df['fare_amount'] <= upper_bound_fare]\n",
        "df = df[(df['trip_distance'] <= upper_bound_distance)]\n",
        "\n",
        "print(\"DataFrame shape after outlier filtering:\", df.shape)"
      ],
      "metadata": {
        "id": "eve6JJxTryLz"
      },
      "execution_count": null,
      "outputs": []
    },
    {
      "cell_type": "markdown",
      "source": [
        "# **Exploratory Data Analysis**\n",
        "\n",
        "**Number of trips by Trip Duration**"
      ],
      "metadata": {
        "id": "1tOTYiCj46IA"
      }
    },
    {
      "cell_type": "code",
      "source": [
        "import matplotlib.pyplot as plt\n",
        "import seaborn as sns\n",
        "\n",
        "plt.figure(figsize=(8,4))\n",
        "df['trip_duration_min'].hist(bins=60)\n",
        "plt.xlabel('Trip Duration (min)')\n",
        "plt.ylabel('Number of trips')\n",
        "plt.title('Trip Duration Distribution')\n",
        "plt.show()"
      ],
      "metadata": {
        "id": "5oRM0JEc4-Dx"
      },
      "execution_count": null,
      "outputs": []
    },
    {
      "cell_type": "markdown",
      "source": [
        "1. Understanding the typical ride time helps, optimize ETA algorithms, plan\n",
        "feature rollouts (like ‘ride share’ vs ‘express’ options), and identify segments needing experience improvements.\n",
        "2. Uncovering patterns **(e.g., most trips are under 20 minutes)** helps in understanding (‘quickest ride in the city!’) or operational tweaks (fleet positioning).\n",
        "3. Unusually **many trips are short or long**, there may be **mismatches between user needs and service delivery.**"
      ],
      "metadata": {
        "id": "bijhoKO35UiK"
      }
    },
    {
      "cell_type": "markdown",
      "source": [
        "**Number of trips by Distance**"
      ],
      "metadata": {
        "id": "Zg_X6FIXG3l-"
      }
    },
    {
      "cell_type": "code",
      "source": [
        "plt.figure(figsize=(8,4))\n",
        "df['trip_distance'].hist(bins=60)\n",
        "plt.xlabel('Trip Distance (miles)')\n",
        "plt.title('Trip Distance Distribution')\n",
        "plt.show()"
      ],
      "metadata": {
        "id": "pJyvSp6b551V"
      },
      "execution_count": null,
      "outputs": []
    },
    {
      "cell_type": "markdown",
      "source": [
        "Trip Distance Distribution Insights\n",
        "\n",
        "1. The majority of NYC taxi trips are short (0.5–2 miles), confirming that taxis serve mostly intra-city mobility needs.\n",
        "2. Sharp decline in trip counts for distances beyond 2 miles suggests alternative transportation is preferred for longer routes.\n",
        "3. The most common trip length is just under 1 mile—ideal for product features like flat fares, express rides, or bundled promos."
      ],
      "metadata": {
        "id": "bX5jg8dW8FMV"
      }
    },
    {
      "cell_type": "markdown",
      "source": [
        "**Trips numbers by hour of Day**"
      ],
      "metadata": {
        "id": "d7VQKECVGMQy"
      }
    },
    {
      "cell_type": "code",
      "source": [
        "df['pickup_hour'] = df['tpep_pickup_datetime'].dt.hour\n",
        "df['pickup_weekday'] = df['tpep_pickup_datetime'].dt.day_name()\n",
        "\n",
        "plt.figure(figsize=(8,4))\n",
        "df['pickup_hour'].value_counts().sort_index().plot(kind='line')\n",
        "plt.xlabel('Hour of Day')\n",
        "plt.ylabel('Number of Trips')\n",
        "plt.title('Trips by Hour of Day')\n",
        "plt.show()"
      ],
      "metadata": {
        "id": "DgbWnTqr82wA"
      },
      "execution_count": null,
      "outputs": []
    },
    {
      "cell_type": "markdown",
      "source": [
        "1. Peak demand is during afternoon and early evening:\n",
        "\n",
        "\t•\tTrips increase steadily from 7 AM, peaking between 3 PM and 7 PM—likely reflecting office commutes, after-school travel, and early evening social outings.\n",
        "2. Late-night and early-morning trips are fewest:\n",
        "\n",
        "\t•\tMinimal trips from midnight to 5 AM, then a steady morning rise—classic urban pattern, with only essential rides late at night.\n",
        "3. Sharp drop after 7 PM:\n",
        "\n",
        "\t•\tPossible factors: shift to public transit, fewer late-night events, or pricing changes."
      ],
      "metadata": {
        "id": "Ih4Xe2M0AOIt"
      }
    },
    {
      "cell_type": "markdown",
      "source": [
        "**Fare Distribution by TopPickup/Dropoff Zones**"
      ],
      "metadata": {
        "id": "xobId-f7F57n"
      }
    },
    {
      "cell_type": "code",
      "source": [
        "import seaborn as sns\n",
        "import matplotlib.pyplot as plt\n",
        "\n",
        "# Merge df with zones_gdf for pickup zones\n",
        "pickup_zones = df.merge(zones_gdf[['LocationID', 'zone']], left_on='pulocationid', right_on='LocationID', how='left')\n",
        "\n",
        "# Merge df with zones_gdf for dropoff zones\n",
        "dropoff_zones = df.merge(zones_gdf[['LocationID', 'zone']], left_on='dolocationid', right_on='LocationID', how='left')\n",
        "\n",
        "# Get the top 10 pickup zones by count\n",
        "top_pickup_names = pickup_zones['zone'].value_counts().head(10).index\n",
        "\n",
        "# Filter data for just those zones\n",
        "pickup_top10 = pickup_zones[pickup_zones['zone'].isin(top_pickup_names)]\n",
        "\n",
        "# Create a boxplot for fare distribution in top 10 pickup zones\n",
        "plt.figure(figsize=(12, 6))\n",
        "sns.boxplot(data=pickup_top10, x='zone', y='fare_amount')\n",
        "plt.xlabel('Pickup Zone')\n",
        "plt.ylabel('Fare Amount ($)')\n",
        "plt.title('Fare Distribution by Top 10 Pickup Zones')\n",
        "plt.xticks(rotation=45)\n",
        "plt.show()\n",
        "\n",
        "# Get the top 10 dropoff zones by count\n",
        "top_dropoff_names = dropoff_zones['zone'].value_counts().head(10).index\n",
        "\n",
        "# Filter data for just those zones\n",
        "dropoff_top10 = dropoff_zones[dropoff_zones['zone'].isin(top_dropoff_names)]\n",
        "\n",
        "# Create a boxplot for fare distribution in top 10 dropoff zones\n",
        "plt.figure(figsize=(12, 6))\n",
        "sns.boxplot(data=dropoff_top10, x='zone', y='fare_amount')\n",
        "plt.xlabel('Dropoff Zone')\n",
        "plt.ylabel('Fare Amount ($)')\n",
        "plt.title('Fare Distribution by Top 10 Dropoff Zones')\n",
        "plt.xticks(rotation=45)\n",
        "plt.show()"
      ],
      "metadata": {
        "id": "oByniahiAevH"
      },
      "execution_count": null,
      "outputs": []
    },
    {
      "cell_type": "markdown",
      "source": [
        "1. Consistent Median Fares Across Zones\n",
        "\n",
        "\t•\tThe median fare (middle line of each box) is surprisingly similar across most top pickup and dropoff zones, generally around $10–$13.\n",
        "\t•\tThis suggests standardized pricing for most popular short-distance rides, regardless of neighborhood.\n",
        "\n",
        "2. Significant Fare Spread Within Each Zone\n",
        "\n",
        "\t•\tThe box heights and whiskers show that fare amounts can vary widely within each zone.\n",
        "\t•\tSome zones (like Midtown East, Midtown Center) have wider boxes and longer whiskers, indicating more variability—likely due to traffic, longer routes, or diverse trip patterns in central business areas.\n",
        "\n",
        "3. Outliers Are Present in Every Zone\n",
        "\n",
        "\t•\tThe dots above each box are outlier fares—likely representing longer trips, detours, airport runs, or premium surcharges.\n",
        "\t•\tThese outliers show that even in typically short-trip zones, occasional high fares occur.\n",
        "\n",
        "4. Some Zones Have Slightly Higher Fares\n",
        "\n",
        "\t•\tA few zones (for example, Midtown Center, Lincoln Square East) show slightly higher medians and longer upper whiskers—could be due to:\n",
        "\t•\tHigher demand for longer trips from business districts."
      ],
      "metadata": {
        "id": "vRI6R7K-Eu-j"
      }
    },
    {
      "cell_type": "markdown",
      "source": [
        "**Trip rate vs Fare amount**"
      ],
      "metadata": {
        "id": "0xtxsG7XRnJE"
      }
    },
    {
      "cell_type": "code",
      "source": [
        "import numpy as np\n",
        "import matplotlib.pyplot as plt\n",
        "import seaborn as sns\n",
        "\n",
        "df['tip_rate'] = df['tip_amount'] / df['fare_amount']\n",
        "df['tip_rate'] = df['tip_rate'].replace([np.inf, -np.inf], np.nan).clip(lower=0, upper=2)\n",
        "\n",
        "plt.figure(figsize=(8,4))\n",
        "df['tip_rate'].dropna().hist(bins=60)\n",
        "plt.xlabel('Tip Rate (tip/fare)')\n",
        "plt.title('Tip Rate Distribution')\n",
        "plt.show()\n"
      ],
      "metadata": {
        "id": "B3lnbxc9E7Jc"
      },
      "execution_count": null,
      "outputs": []
    },
    {
      "cell_type": "markdown",
      "source": [
        "1. Most tips are below 25% of fare:\n",
        "\n",
        "\t•\tThe vast majority of trips have a tip rate (tip/fare) between 0% and 25%.\n",
        "\t•\tThis is consistent with standard tipping expectations for NYC taxis, where 10–20% is typical.\n",
        "  \n",
        "2. Very few extreme tip rates:\n",
        "\n",
        "\t•\tThere are very few trips with tip rates above 50%—most of these are likely data anomalies or rare acts of generosity.\n",
        "\t•\tRight-skewed distribution suggests most customers are price-sensitive or use default tipping buttons in the app/card reader."
      ],
      "metadata": {
        "id": "CyDr-oNGQuQW"
      }
    },
    {
      "cell_type": "markdown",
      "source": [
        "**Taxi rides vs Payment type**"
      ],
      "metadata": {
        "id": "f1JhqLd1R-_U"
      }
    },
    {
      "cell_type": "code",
      "source": [
        "# Define the mapping as per NYC taxi data dictionary\n",
        "payment_type_map = {\n",
        "    1: \"Credit card\",\n",
        "    2: \"Cash\",\n",
        "    3: \"No charge\",\n",
        "    4: \"Dispute\",\n",
        "    5: \"Unknown\",      # Some datasets have 5 as 'Unknown'\n",
        "    6: \"Voided trip\"   # And sometimes 6\n",
        "}\n",
        "\n",
        "df['payment_type_label'] = df['payment_type'].map(payment_type_map)\n",
        "print(df[['payment_type', 'payment_type_label']].head())\n",
        "\n",
        "df['payment_type'] = df['payment_type'].astype(str)\n",
        "paytype_counts = df['payment_type'].value_counts()\n",
        "\n",
        "plt.figure(figsize=(6,4))\n",
        "paytype_counts.plot(kind='bar')\n",
        "plt.xlabel('Payment Type Code')\n",
        "plt.ylabel('Trips')\n",
        "plt.title('Trips by Payment Type')\n",
        "plt.show()\n",
        "\n"
      ],
      "metadata": {
        "id": "2WTvdf4dKLEP"
      },
      "execution_count": null,
      "outputs": []
    },
    {
      "cell_type": "markdown",
      "source": [
        "1. Credit card is dominant:\n",
        "\n",
        "\t•\tOver 80% of taxi rides are paid by credit card (code 1, now labeled “Credit card”).\n",
        "\t•\tThis signals strong adoption of digital payments, likely due to app-based hailing and convenience.\n",
        "  \n",
        "2. Cash is a distant second:\n",
        "\n",
        "\t•\tCash rides (code 2) make up a much smaller fraction—perhaps 15–20%.\n",
        "\t•\tThis could reflect tourists, users with privacy concerns, or those with less access to cards."
      ],
      "metadata": {
        "id": "_wyK2xqmP3Rg"
      }
    },
    {
      "cell_type": "code",
      "metadata": {
        "id": "5ad6b2b8"
      },
      "source": [
        "# Group by pickup zone to find mean fare and mean trip distance\n",
        "zone_stats = pickup_zones.groupby('zone').agg(\n",
        "    mean_fare=('fare_amount', 'mean'),\n",
        "    mean_distance=('trip_distance', 'mean'),\n",
        "    trip_count=('fare_amount', 'count')\n",
        ").reset_index()\n",
        "\n",
        "zone_stats = zone_stats.sort_values('mean_fare', ascending=False)\n",
        "zone_stats.head(10)\n",
        "\n",
        "\n",
        "correlation = zone_stats['mean_distance'].corr(zone_stats['mean_fare'])\n",
        "print(f\"Correlation between mean trip distance and mean fare across zones: {correlation:.2f}\")\n",
        "\n",
        "\n",
        "\n",
        "import matplotlib.pyplot as plt\n",
        "\n",
        "plt.figure(figsize=(8,5))\n",
        "plt.scatter(zone_stats['mean_distance'], zone_stats['mean_fare'])\n",
        "plt.xlabel('Mean Trip Distance (miles) by Zone')\n",
        "plt.ylabel('Mean Fare ($) by Zone')\n",
        "plt.title('Zone-Level Correlation: Mean Distance vs Mean Fare')\n",
        "plt.grid(True)\n",
        "plt.show()"
      ],
      "execution_count": null,
      "outputs": []
    },
    {
      "cell_type": "code",
      "source": [
        "import seaborn as sns\n",
        "\n",
        "# Create a pivot table: days as rows, hours as columns\n",
        "heatmap_data = df.pivot_table(index='pickup_weekday', columns='pickup_hour', values='fare_amount', aggfunc='count')\n",
        "# Reorder weekdays if you want\n",
        "weekday_order = ['Monday','Tuesday','Wednesday','Thursday','Friday','Saturday','Sunday']\n",
        "heatmap_data = heatmap_data.reindex(weekday_order)\n",
        "\n",
        "plt.figure(figsize=(12,6))\n",
        "sns.heatmap(heatmap_data, cmap='Blues')\n",
        "plt.title('Number of Trips: Hour vs. Day of Week')\n",
        "plt.xlabel('Hour of Day')\n",
        "plt.ylabel('Day of Week')\n",
        "plt.show()\n"
      ],
      "metadata": {
        "id": "RGBlvU45UQJZ"
      },
      "execution_count": null,
      "outputs": []
    },
    {
      "cell_type": "markdown",
      "source": [],
      "metadata": {
        "id": "vo5FI4ZDXtJE"
      }
    },
    {
      "cell_type": "markdown",
      "source": [
        "1. The strongest demand is during afternoons and early evenings, peaking 4–7 PM on most days.\n",
        "2. Friday evenings see the highest ride volume, while Saturday demand starts earlier and stays high through the day.\n",
        "3. Weekday patterns are highly consistent, Trip demand rises steadily after 7 AM, peaks in the evening, and drops sharply after 8 PM.\n",
        "4. Product, ops, and marketing teams should use these insights to optimize fleet distribution, **schedule promos**, and communicate ETAs during peak periods."
      ],
      "metadata": {
        "id": "-0g1361LT5eY"
      }
    },
    {
      "cell_type": "markdown",
      "source": [
        "# **4 Conclusion**"
      ],
      "metadata": {
        "id": "i2zdjXLiahPK"
      }
    },
    {
      "cell_type": "markdown",
      "source": [
        "## 4.1 **Final Insights and Recommendation**"
      ],
      "metadata": {
        "id": "eqwmLn5KasfR"
      }
    },
    {
      "cell_type": "markdown",
      "source": [
        "# **Key Insights**\n",
        "***\t•\tTrip Timing Patterns:***\n",
        "\n",
        "Taxi demand in NYC consistently peaks during afternoons and early evenings (especially 4–7 PM), with Friday evenings and Saturdays being the busiest. Late nights and early mornings see the lowest activity across all days.\n",
        "\n",
        "***\t•\tZone & Distance Trends:***\n",
        "\n",
        "Most trips are short (1–2 miles), with average fares clustering around $12–$18. A strong positive correlation exists between trip distance and fare across zones, confirming distance as the key driver of taxi pricing.\n",
        "\n",
        "***\t•\tPayment Behavior:***\n",
        "\n",
        "Credit card dominates as the preferred payment method (over 80% of rides), followed by cash. Other payment types are negligible, indicating digital payment flows are well established in the market.\n",
        "\n",
        "***\t•\tTipping Patterns:***\n",
        "\n",
        "The majority of tips fall between 10–25% of the fare, with very few extreme outliers. Credit card users are most likely to tip, supporting the design of default digital tipping prompts.\n",
        "\n",
        "***\t•\tSpatial Demand:***\n",
        "\n",
        "Certain central business and entertainment districts (like Midtown) show higher fare variability, possibly due to congestion, trip length diversity, or frequent surcharges.\n",
        "\n",
        "\n",
        "\n",
        "# **Recommendations**\n",
        "\n",
        "***\t1.\tOptimize Fleet and Pricing for Peak Hours:***\n",
        "\n",
        "Prioritize driver allocation and dynamic pricing strategies for high-demand periods—especially Friday evenings and Saturday afternoons/evenings. Use predictive scheduling for weekday afternoon peaks.\n",
        "\n",
        "***\t2.\tEnhance Digital Payment and Tipping Experience:***\n",
        "\n",
        "Focus UX and loyalty features on credit card users, but offer incentives for cash users to switch to digital. Default tipping options (15%, 20%, 25%) are aligned with most user behavior.\n",
        "\n",
        "***\t3.\tImprove Fare Transparency: ***\n",
        "\n",
        "Leverage the strong fare-distance correlation to offer accurate fare estimators and up-front pricing in the app, especially for zones with high variability or outliers.\n",
        "\n",
        "***\t4.\tZone-Specific Product Opportunities:***\n",
        "\n",
        "Investigate zones with unusually high fares or fare spread for targeted promotions, flat fares, or user education. Flag outlier trips for potential fraud review or enhanced customer support.\n",
        "\n",
        "***\t5.\tTargeted Promotions for Off-Peak Hours:***\n",
        "\n",
        "Use discounts or loyalty programs during low-demand times (late night, early morning) to balance utilization and attract new segments.\n",
        "\n",
        "***\t6.\tCommunication & Operations:***\n",
        "\n",
        "Proactively communicate expected wait times and surge pricing during predictable peaks. Ensure safety protocols and quick-response availability during late-night low-demand windows.\n"
      ],
      "metadata": {
        "id": "uDKVUg1ya9NY"
      }
    }
  ]
}